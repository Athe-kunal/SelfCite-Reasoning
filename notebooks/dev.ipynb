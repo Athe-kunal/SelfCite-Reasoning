{
 "cells": [
  {
   "cell_type": "code",
   "execution_count": 1,
   "metadata": {},
   "outputs": [
    {
     "name": "stderr",
     "output_type": "stream",
     "text": [
      "/home/recoverx/.cache/pypoetry/virtualenvs/selfcite-reasoning-odJkBqJu-py3.11/lib/python3.11/site-packages/tqdm/auto.py:21: TqdmWarning: IProgress not found. Please update jupyter and ipywidgets. See https://ipywidgets.readthedocs.io/en/stable/user_install.html\n",
      "  from .autonotebook import tqdm as notebook_tqdm\n"
     ]
    }
   ],
   "source": [
    "from datasets import load_dataset\n",
    "\n",
    "# Login using e.g. `huggingface-cli login` to access this dataset\n",
    "ds = load_dataset(\"nvidia/Llama-Nemotron-Post-Training-Dataset-v1\")"
   ]
  },
  {
   "cell_type": "code",
   "execution_count": 2,
   "metadata": {},
   "outputs": [
    {
     "data": {
      "text/plain": [
       "DatasetDict({\n",
       "    code: Dataset({\n",
       "        features: ['input', 'output', 'category', 'license', 'reasoning', 'generator', 'used_in_training'],\n",
       "        num_rows: 9612677\n",
       "    })\n",
       "    math: Dataset({\n",
       "        features: ['input', 'output', 'category', 'license', 'reasoning', 'generator', 'used_in_training'],\n",
       "        num_rows: 19840970\n",
       "    })\n",
       "    science: Dataset({\n",
       "        features: ['input', 'output', 'category', 'license', 'reasoning', 'generator', 'used_in_training'],\n",
       "        num_rows: 708920\n",
       "    })\n",
       "    chat: Dataset({\n",
       "        features: ['input', 'output', 'category', 'license', 'reasoning', 'generator', 'used_in_training'],\n",
       "        num_rows: 39792\n",
       "    })\n",
       "    safety: Dataset({\n",
       "        features: ['input', 'output', 'category', 'license', 'reasoning', 'generator', 'used_in_training'],\n",
       "        num_rows: 31426\n",
       "    })\n",
       "})"
      ]
     },
     "execution_count": 2,
     "metadata": {},
     "output_type": "execute_result"
    }
   ],
   "source": [
    "ds"
   ]
  },
  {
   "cell_type": "code",
   "execution_count": 3,
   "metadata": {},
   "outputs": [
    {
     "data": {
      "text/plain": [
       "{'input': '<|begin_of_text|><|start_header_id|>system<|end_header_id|>\\n\\ndetailed thinking on<|eot_id|><|start_header_id|>user<|end_header_id|>\\n\\nGiven a list of integers, write a function that returns a new list where each integer is multiplied by its index in the original list. The new list should have the same size as the original list.<|eot_id|><|start_header_id|>assistant<|end_header_id|>\\n\\n',\n",
       " 'output': \"<think>\\nOkay, I need to write a Python function that takes a list of integers and returns a new list where each element is multiplied by its index. Let's see.\\n\\nFirst, the function will be called something like multiply_by_index. The input is a list, say nums. The output list should have the same length as the input. For each element in the original list, the new element is the original value multiplied by its index.\\n\\nWait, but indexes start at 0. So for the first element (index 0), it's multiplied by 0. The second (index 1) multiplied by 1, etc. So for example, if the input is [1,2,3], the output should be [0, 2, 6].\\n\\nSo how to do this. One way is to loop through each element with their indices. So for each index i and value num in the original list, compute i * num and collect those into a new list.\\n\\nIn Python, I can use a list comprehension. So maybe something like [i * num for i, num in enumerate(nums)]. But wait, enumerate gives (index, element) pairs. So yes, that's exactly what I need.\\n\\nSo the function can be written as:\\n\\ndef multiply_by_index(nums):\\n    return [i * num for i, num in enumerate(nums)]\\n\\nWait, but what if the list is empty? Well, the problem says the new list should have the same size. So if the input is empty, return empty. Which this code handles.\\n\\nTesting the example: [1,2,3] gives 0*1=0, 1*2=2, 2*3=6. So [0,2,6]. That's correct.\\n\\nAnother test case: if the list is [3, 0, 5], then indexes 0,1,2. So 0*3=0, 1*0=0, 2*5=10. Result [0,0,10]. That's right.\\n\\nSo this should work. The code is simple. So the function is straightforward.\\n</think>\\n\\n```python\\ndef multiply_by_index(nums):\\n    return [i * num for i, num in enumerate(nums)]\\n```<|eot_id|>\",\n",
       " 'category': 'code',\n",
       " 'license': 'cc-by-4.0',\n",
       " 'reasoning': 'on',\n",
       " 'generator': 'DeepSeek-R1',\n",
       " 'used_in_training': 'yes'}"
      ]
     },
     "execution_count": 3,
     "metadata": {},
     "output_type": "execute_result"
    }
   ],
   "source": [
    "ds['code'][0]"
   ]
  },
  {
   "cell_type": "code",
   "execution_count": 4,
   "metadata": {},
   "outputs": [
    {
     "name": "stdout",
     "output_type": "stream",
     "text": [
      "This problem does not have a numerical answer. However, I can provide a step-by-step solution to sketch the graph of the function.\n",
      "\n",
      "\n",
      "## Step 1: Identify the function\n",
      "The given function is $g(x) = \\ln(x^5 + 5) - x^3$.\n",
      "\n",
      "\n",
      "## Step 2: Determine the domain\n",
      "The function is defined when $x^5 + 5 > 0$. Since $x^5 \\geq -1$ for all $x$ and $5 > 0$, $x^5 + 5 > 0$ is true for all real $x$. However, we should note that the natural logarithm function requires its argument to be strictly greater than 0, so $x^5 + 5 > 0$ is always true, meaning the domain of $g(x)$ is all real numbers $x$.\n",
      "\n",
      "\n",
      "## Step 3: Find the derivative\n",
      "To sketch the graph, we need to find critical points by taking the derivative of $g(x)$. The derivative $g'(x)$ is given by $g'(x) = \\frac{5x^4}{x^5 + 5} - 3x^2$.\n",
      "\n",
      "\n",
      "## Step 4: Determine critical points\n",
      "Critical points occur when $g'(x) = 0$. Setting $\\frac{5x^4}{x^5 + 5} - 3x^2 = 0$, we can solve for $x$. This gives us $\\frac{5x^4}{x^5 + 5} = 3x^2$. Multiplying both sides by $x^5 + 5$ yields $5x^4 = 3x^2(x^5 + 5) = 3x^7 + 15x^2$. Rearranging, we get $3x^7 + 15x^2 - 5x^4 = 0$. Factoring out $x^2$, we have $x^2(3x^5 - 5x^2 + 15) = 0$. So, $x^2 = 0$ or $3x^5 - 5x^2 + 15 = 0$. The first yields $x = 0$, and the second equation does not have an easy analytical solution.\n",
      "\n",
      "\n",
      "## Step 5: Sketch the graph\n",
      "Given the complexity of solving $3x^5 - 5x^2 + 15 = 0$ analytically and the nature of the problem, we recognize that sketching the graph involves understanding the behavior of the function as $x$ approaches positive and negative infinity, and the behavior around its critical points. However, without specific numerical solutions to the derivative's root (aside from $x=0$), and considering the instructions, we cannot proceed in the exact format requested as the problem doesn't lend itself to a simple numerical answer.\n",
      "\n",
      "\n",
      "The final answer is: $\\boxed{g(x) = \\ln(x^5 + 5) - x^3}$<|eot_id|>\n"
     ]
    }
   ],
   "source": [
    "print(ds['math'][0]['output'])"
   ]
  },
  {
   "cell_type": "code",
   "execution_count": 5,
   "metadata": {},
   "outputs": [],
   "source": [
    "import pydantic\n",
    "from typing import Literal\n",
    "import datasets\n",
    "\n",
    "class ReasoningData(pydantic.BaseModel):\n",
    "    input: str\n",
    "    output: str\n",
    "    category: Literal['code', 'math', 'science', 'chat', 'safety']\n",
    "    generator: Literal['DeepSeek-R1, Qwen-2.5-72B-Instruct','DeepSeek-R1, Qwen-2.5-32B-Instruct','Mixtral-8x22B-Instruct-v0.1','DeepSeek-R1']\n",
    "\n",
    "\n",
    "filtered_ds_dict = datasets.DatasetDict({\n",
    "    split: dataset.filter(\n",
    "        lambda batch: [reason == 'on' for reason in batch['reasoning']],\n",
    "        batched=True,\n",
    "        batch_size=100_000\n",
    "    )\n",
    "    for split, dataset in ds.items()\n",
    "})"
   ]
  },
  {
   "cell_type": "code",
   "execution_count": 6,
   "metadata": {},
   "outputs": [
    {
     "data": {
      "text/plain": [
       "{'input': '<|begin_of_text|><|start_header_id|>system<|end_header_id|>\\n\\ndetailed thinking on<|eot_id|><|start_header_id|>user<|end_header_id|>\\n\\nGiven a list of integers, write a function that returns a new list where each integer is multiplied by its index in the original list. The new list should have the same size as the original list.<|eot_id|><|start_header_id|>assistant<|end_header_id|>\\n\\n',\n",
       " 'output': \"<think>\\nOkay, I need to write a Python function that takes a list of integers and returns a new list where each element is multiplied by its index. Let's see.\\n\\nFirst, the function will be called something like multiply_by_index. The input is a list, say nums. The output list should have the same length as the input. For each element in the original list, the new element is the original value multiplied by its index.\\n\\nWait, but indexes start at 0. So for the first element (index 0), it's multiplied by 0. The second (index 1) multiplied by 1, etc. So for example, if the input is [1,2,3], the output should be [0, 2, 6].\\n\\nSo how to do this. One way is to loop through each element with their indices. So for each index i and value num in the original list, compute i * num and collect those into a new list.\\n\\nIn Python, I can use a list comprehension. So maybe something like [i * num for i, num in enumerate(nums)]. But wait, enumerate gives (index, element) pairs. So yes, that's exactly what I need.\\n\\nSo the function can be written as:\\n\\ndef multiply_by_index(nums):\\n    return [i * num for i, num in enumerate(nums)]\\n\\nWait, but what if the list is empty? Well, the problem says the new list should have the same size. So if the input is empty, return empty. Which this code handles.\\n\\nTesting the example: [1,2,3] gives 0*1=0, 1*2=2, 2*3=6. So [0,2,6]. That's correct.\\n\\nAnother test case: if the list is [3, 0, 5], then indexes 0,1,2. So 0*3=0, 1*0=0, 2*5=10. Result [0,0,10]. That's right.\\n\\nSo this should work. The code is simple. So the function is straightforward.\\n</think>\\n\\n```python\\ndef multiply_by_index(nums):\\n    return [i * num for i, num in enumerate(nums)]\\n```<|eot_id|>\",\n",
       " 'category': 'code',\n",
       " 'license': 'cc-by-4.0',\n",
       " 'reasoning': 'on',\n",
       " 'generator': 'DeepSeek-R1',\n",
       " 'used_in_training': 'yes'}"
      ]
     },
     "execution_count": 6,
     "metadata": {},
     "output_type": "execute_result"
    }
   ],
   "source": [
    "filtered_ds_dict['code'][0]"
   ]
  },
  {
   "cell_type": "code",
   "execution_count": 7,
   "metadata": {},
   "outputs": [
    {
     "name": "stderr",
     "output_type": "stream",
     "text": [
      "For code: 100%|██████████| 495500/495500 [00:51<00:00, 9555.08it/s] \n",
      "For math: 0it [00:00, ?it/s]\n",
      "For science: 100%|██████████| 708920/708920 [01:25<00:00, 8303.08it/s] \n",
      "For chat: 100%|██████████| 8574/8574 [00:00<00:00, 18049.42it/s]\n",
      "For safety: 100%|██████████| 15713/15713 [00:00<00:00, 16647.60it/s]\n"
     ]
    }
   ],
   "source": [
    "import tqdm\n",
    "import asyncio\n",
    "from functools import partial\n",
    "\n",
    "\n",
    "def process_dataset(ds):\n",
    "    return ReasoningData(\n",
    "        input=ds['input'],\n",
    "        output=ds['output'], \n",
    "        category=ds['category'],\n",
    "        generator=ds['generator']\n",
    "    )\n",
    "\n",
    "\n",
    "async def process_split(split, dataset):\n",
    "    tasks = []\n",
    "    for ds in dataset:\n",
    "        task = asyncio.create_task(asyncio.to_thread(process_dataset, ds))\n",
    "        tasks.append(task)\n",
    "        \n",
    "    results = []\n",
    "    for task in tqdm.tqdm(asyncio.as_completed(tasks), desc=f\"For {split}\", total=len(tasks)):\n",
    "        result = await task\n",
    "        results.append(result)\n",
    "    \n",
    "    return results\n",
    "\n",
    "\n",
    "reasoning_data: list[ReasoningData] = []\n",
    "\n",
    "async def main():\n",
    "    for split, dataset in filtered_ds_dict.items():\n",
    "        results = await process_split(split, dataset)\n",
    "        reasoning_data.extend(results)\n",
    "\n",
    "await main()"
   ]
  },
  {
   "cell_type": "code",
   "execution_count": 8,
   "metadata": {},
   "outputs": [
    {
     "name": "stderr",
     "output_type": "stream",
     "text": [
      "100%|██████████| 1228707/1228707 [00:02<00:00, 497660.75it/s]\n"
     ]
    }
   ],
   "source": [
    "list_of_dicts = [item.model_dump() for item in tqdm.tqdm(reasoning_data)]"
   ]
  },
  {
   "cell_type": "code",
   "execution_count": 9,
   "metadata": {},
   "outputs": [
    {
     "name": "stderr",
     "output_type": "stream",
     "text": [
      "Creating parquet from Arrow format: 100%|██████████| 1229/1229 [00:34<00:00, 35.84ba/s]\n"
     ]
    },
    {
     "data": {
      "text/plain": [
       "12577013534"
      ]
     },
     "execution_count": 9,
     "metadata": {},
     "output_type": "execute_result"
    }
   ],
   "source": [
    "from datasets import Dataset\n",
    "\n",
    "dataset = Dataset.from_list(list_of_dicts)\n",
    "\n",
    "# Save to Parquet\n",
    "dataset.to_parquet(\"reasoning_data.parquet\")"
   ]
  },
  {
   "cell_type": "markdown",
   "metadata": {},
   "source": [
    "## LONG CITE"
   ]
  },
  {
   "cell_type": "code",
   "execution_count": 18,
   "metadata": {},
   "outputs": [
    {
     "name": "stderr",
     "output_type": "stream",
     "text": [
      "100%|██████████| 1228707/1228707 [00:02<00:00, 487660.35it/s]\n"
     ]
    }
   ],
   "source": [
    "import pandas as pd\n",
    "from typing import List\n",
    "\n",
    "# Load parquet directly into pandas DataFrame and convert to list of ReasoningData\n",
    "df = pd.read_parquet(\"reasoning_data.parquet\")\n",
    "dataset = [ReasoningData(**row) for row in tqdm.tqdm(df.to_dict('records'))]"
   ]
  },
  {
   "cell_type": "code",
   "execution_count": 20,
   "metadata": {},
   "outputs": [
    {
     "data": {
      "text/plain": [
       "1228707"
      ]
     },
     "execution_count": 20,
     "metadata": {},
     "output_type": "execute_result"
    }
   ],
   "source": [
    "len(dataset)"
   ]
  },
  {
   "cell_type": "markdown",
   "metadata": {},
   "source": []
  }
 ],
 "metadata": {
  "kernelspec": {
   "display_name": "selfcite-reasoning-odJkBqJu-py3.11",
   "language": "python",
   "name": "python3"
  },
  "language_info": {
   "codemirror_mode": {
    "name": "ipython",
    "version": 3
   },
   "file_extension": ".py",
   "mimetype": "text/x-python",
   "name": "python",
   "nbconvert_exporter": "python",
   "pygments_lexer": "ipython3",
   "version": "3.11.3"
  }
 },
 "nbformat": 4,
 "nbformat_minor": 2
}
